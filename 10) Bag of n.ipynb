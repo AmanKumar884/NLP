{
 "cells": [
  {
   "cell_type": "code",
   "execution_count": 1,
   "id": "1324e27b",
   "metadata": {},
   "outputs": [],
   "source": [
    "# BOW - Bag of Words( capturing single single words from a string)\n",
    "# bi-gram - Capturing 2 words at a time sequentially\n",
    "# tri-gram - Capturing 3 words at a time sequentially\n",
    "# n-gram- All these methods are called n-grams."
   ]
  },
  {
   "cell_type": "code",
   "execution_count": 2,
   "id": "60e1514b",
   "metadata": {},
   "outputs": [],
   "source": [
    "# n gram increases the data dimentionality"
   ]
  },
  {
   "cell_type": "code",
   "execution_count": 3,
   "id": "f904678c",
   "metadata": {},
   "outputs": [
    {
     "data": {
      "text/plain": [
       "{'thor': 5, 'hathodawala': 1, 'is': 2, 'looking': 4, 'for': 0, 'job': 3}"
      ]
     },
     "execution_count": 3,
     "metadata": {},
     "output_type": "execute_result"
    }
   ],
   "source": [
    "from sklearn.feature_extraction.text import CountVectorizer\n",
    "v = CountVectorizer()\n",
    "v.fit(['Thor Hathodawala is looking for a job'])\n",
    "v.vocabulary_\n",
    "# lexographically arranges the data [0,n]"
   ]
  },
  {
   "cell_type": "code",
   "execution_count": 4,
   "id": "ea273233",
   "metadata": {},
   "outputs": [
    {
     "data": {
      "text/plain": [
       "{'thor': 9,\n",
       " 'hathodawala': 2,\n",
       " 'is': 4,\n",
       " 'looking': 7,\n",
       " 'for': 0,\n",
       " 'job': 6,\n",
       " 'thor hathodawala': 10,\n",
       " 'hathodawala is': 3,\n",
       " 'is looking': 5,\n",
       " 'looking for': 8,\n",
       " 'for job': 1}"
      ]
     },
     "execution_count": 4,
     "metadata": {},
     "output_type": "execute_result"
    }
   ],
   "source": [
    "v = CountVectorizer(ngram_range=(1,2))\n",
    "# first single token then bi-gram\n",
    "# if (1,3) then BOw->bi-gram->tri-gram\n",
    "v.fit([\"Thor Hathodawala is looking for a job\"])\n",
    "v.vocabulary_"
   ]
  },
  {
   "cell_type": "code",
   "execution_count": 5,
   "id": "343c3ac5",
   "metadata": {},
   "outputs": [
    {
     "data": {
      "text/plain": [
       "['Thor ate pizza', 'Loki is tall', 'Loki is eating pizza']"
      ]
     },
     "execution_count": 5,
     "metadata": {},
     "output_type": "execute_result"
    }
   ],
   "source": [
    "corpus = [\n",
    "    \"Thor ate pizza\",\n",
    "    \"Loki is tall\",\n",
    "    \"Loki is eating pizza\"\n",
    "]\n",
    "corpus\n"
   ]
  },
  {
   "cell_type": "code",
   "execution_count": 13,
   "id": "06636c9d",
   "metadata": {},
   "outputs": [
    {
     "data": {
      "text/plain": [
       "3"
      ]
     },
     "execution_count": 13,
     "metadata": {},
     "output_type": "execute_result"
    }
   ],
   "source": [
    "len(corpus)"
   ]
  },
  {
   "cell_type": "code",
   "execution_count": 10,
   "id": "7afc3b78",
   "metadata": {},
   "outputs": [],
   "source": [
    "import spacy\n",
    "nlp = spacy.load('en_core_web_sm') #english model nlp object\n",
    "\n",
    "def preprocess(text):\n",
    "    doc = nlp(text)\n",
    "    filtered_tokens = []\n",
    "    for token in doc:\n",
    "        if token.is_stop or token.is_punct:\n",
    "            continue\n",
    "        filtered_tokens.append(token.lemma_)\n",
    "    return \" \".join(filtered_tokens)\n",
    "    \n"
   ]
  },
  {
   "cell_type": "code",
   "execution_count": 18,
   "id": "5415723f",
   "metadata": {},
   "outputs": [],
   "source": [
    "corpus_processed = []\n",
    "for i in range(len(corpus)):\n",
    "    s = preprocess(corpus[i])\n",
    "    corpus_processed.append(preprocess(s))"
   ]
  },
  {
   "cell_type": "code",
   "execution_count": 19,
   "id": "ea28dd5d",
   "metadata": {},
   "outputs": [
    {
     "data": {
      "text/plain": [
       "['thor eat pizza', 'Loki tall', 'Loki eat pizza']"
      ]
     },
     "execution_count": 19,
     "metadata": {},
     "output_type": "execute_result"
    }
   ],
   "source": [
    "corpus_processed"
   ]
  },
  {
   "cell_type": "code",
   "execution_count": 20,
   "id": "3487b6b3",
   "metadata": {},
   "outputs": [
    {
     "data": {
      "text/plain": [
       "{'thor': 7,\n",
       " 'eat': 0,\n",
       " 'pizza': 5,\n",
       " 'thor eat': 8,\n",
       " 'eat pizza': 1,\n",
       " 'loki': 2,\n",
       " 'tall': 6,\n",
       " 'loki tall': 4,\n",
       " 'loki eat': 3}"
      ]
     },
     "execution_count": 20,
     "metadata": {},
     "output_type": "execute_result"
    }
   ],
   "source": [
    "v = CountVectorizer(ngram_range=(1,2))\n",
    "v.fit(corpus_processed) # creates the vocab\n",
    "v.vocabulary_"
   ]
  },
  {
   "cell_type": "code",
   "execution_count": 21,
   "id": "eb6fc72e",
   "metadata": {},
   "outputs": [
    {
     "data": {
      "text/plain": [
       "array([[1, 1, 0, 0, 0, 1, 0, 1, 1]], dtype=int64)"
      ]
     },
     "execution_count": 21,
     "metadata": {},
     "output_type": "execute_result"
    }
   ],
   "source": [
    "# Now generate bag of n gram vector for few sample documents\n",
    "v.transform([\"Thor eat pizza\"]).toarray()"
   ]
  },
  {
   "cell_type": "code",
   "execution_count": 27,
   "id": "6f808aed",
   "metadata": {},
   "outputs": [
    {
     "data": {
      "text/plain": [
       "array([[1, 1, 0, 0, 0, 1, 0, 0, 0]], dtype=int64)"
      ]
     },
     "execution_count": 27,
     "metadata": {},
     "output_type": "execute_result"
    }
   ],
   "source": [
    "v.transform([\"Hulk eat pizza\"]).toarray()"
   ]
  },
  {
   "cell_type": "markdown",
   "id": "2db2f3f3",
   "metadata": {},
   "source": [
    "# News Category Dataset"
   ]
  },
  {
   "cell_type": "code",
   "execution_count": 40,
   "id": "f712a8e7",
   "metadata": {},
   "outputs": [],
   "source": [
    "import pandas as pd"
   ]
  },
  {
   "cell_type": "code",
   "execution_count": 41,
   "id": "fcfaac68",
   "metadata": {},
   "outputs": [
    {
     "data": {
      "text/html": [
       "<div>\n",
       "<style scoped>\n",
       "    .dataframe tbody tr th:only-of-type {\n",
       "        vertical-align: middle;\n",
       "    }\n",
       "\n",
       "    .dataframe tbody tr th {\n",
       "        vertical-align: top;\n",
       "    }\n",
       "\n",
       "    .dataframe thead th {\n",
       "        text-align: right;\n",
       "    }\n",
       "</style>\n",
       "<table border=\"1\" class=\"dataframe\">\n",
       "  <thead>\n",
       "    <tr style=\"text-align: right;\">\n",
       "      <th></th>\n",
       "      <th>short_description</th>\n",
       "      <th>headline</th>\n",
       "      <th>date</th>\n",
       "      <th>link</th>\n",
       "      <th>authors</th>\n",
       "      <th>category</th>\n",
       "    </tr>\n",
       "  </thead>\n",
       "  <tbody>\n",
       "    <tr>\n",
       "      <th>0</th>\n",
       "      <td>She left her husband. He killed their children...</td>\n",
       "      <td>There Were 2 Mass Shootings In Texas Last Week...</td>\n",
       "      <td>2018-05-26</td>\n",
       "      <td>https://www.huffingtonpost.com/entry/texas-ama...</td>\n",
       "      <td>Melissa Jeltsen</td>\n",
       "      <td>CRIME</td>\n",
       "    </tr>\n",
       "    <tr>\n",
       "      <th>1</th>\n",
       "      <td>Of course it has a song.</td>\n",
       "      <td>Will Smith Joins Diplo And Nicky Jam For The 2...</td>\n",
       "      <td>2018-05-26</td>\n",
       "      <td>https://www.huffingtonpost.com/entry/will-smit...</td>\n",
       "      <td>Andy McDonald</td>\n",
       "      <td>ENTERTAINMENT</td>\n",
       "    </tr>\n",
       "    <tr>\n",
       "      <th>2</th>\n",
       "      <td>The actor and his longtime girlfriend Anna Ebe...</td>\n",
       "      <td>Hugh Grant Marries For The First Time At Age 57</td>\n",
       "      <td>2018-05-26</td>\n",
       "      <td>https://www.huffingtonpost.com/entry/hugh-gran...</td>\n",
       "      <td>Ron Dicker</td>\n",
       "      <td>ENTERTAINMENT</td>\n",
       "    </tr>\n",
       "    <tr>\n",
       "      <th>3</th>\n",
       "      <td>The actor gives Dems an ass-kicking for not fi...</td>\n",
       "      <td>Jim Carrey Blasts 'Castrato' Adam Schiff And D...</td>\n",
       "      <td>2018-05-26</td>\n",
       "      <td>https://www.huffingtonpost.com/entry/jim-carre...</td>\n",
       "      <td>Ron Dicker</td>\n",
       "      <td>ENTERTAINMENT</td>\n",
       "    </tr>\n",
       "    <tr>\n",
       "      <th>4</th>\n",
       "      <td>The \"Dietland\" actress said using the bags is ...</td>\n",
       "      <td>Julianna Margulies Uses Donald Trump Poop Bags...</td>\n",
       "      <td>2018-05-26</td>\n",
       "      <td>https://www.huffingtonpost.com/entry/julianna-...</td>\n",
       "      <td>Ron Dicker</td>\n",
       "      <td>ENTERTAINMENT</td>\n",
       "    </tr>\n",
       "  </tbody>\n",
       "</table>\n",
       "</div>"
      ],
      "text/plain": [
       "                                   short_description  \\\n",
       "0  She left her husband. He killed their children...   \n",
       "1                           Of course it has a song.   \n",
       "2  The actor and his longtime girlfriend Anna Ebe...   \n",
       "3  The actor gives Dems an ass-kicking for not fi...   \n",
       "4  The \"Dietland\" actress said using the bags is ...   \n",
       "\n",
       "                                            headline       date  \\\n",
       "0  There Were 2 Mass Shootings In Texas Last Week... 2018-05-26   \n",
       "1  Will Smith Joins Diplo And Nicky Jam For The 2... 2018-05-26   \n",
       "2    Hugh Grant Marries For The First Time At Age 57 2018-05-26   \n",
       "3  Jim Carrey Blasts 'Castrato' Adam Schiff And D... 2018-05-26   \n",
       "4  Julianna Margulies Uses Donald Trump Poop Bags... 2018-05-26   \n",
       "\n",
       "                                                link          authors  \\\n",
       "0  https://www.huffingtonpost.com/entry/texas-ama...  Melissa Jeltsen   \n",
       "1  https://www.huffingtonpost.com/entry/will-smit...    Andy McDonald   \n",
       "2  https://www.huffingtonpost.com/entry/hugh-gran...       Ron Dicker   \n",
       "3  https://www.huffingtonpost.com/entry/jim-carre...       Ron Dicker   \n",
       "4  https://www.huffingtonpost.com/entry/julianna-...       Ron Dicker   \n",
       "\n",
       "        category  \n",
       "0          CRIME  \n",
       "1  ENTERTAINMENT  \n",
       "2  ENTERTAINMENT  \n",
       "3  ENTERTAINMENT  \n",
       "4  ENTERTAINMENT  "
      ]
     },
     "execution_count": 41,
     "metadata": {},
     "output_type": "execute_result"
    }
   ],
   "source": [
    "# load data\n",
    "\n",
    "df = pd.read_json('News_Category_Dataset.json', lines=True)\n",
    "df.head()"
   ]
  },
  {
   "cell_type": "code",
   "execution_count": 42,
   "id": "79d6bac3",
   "metadata": {},
   "outputs": [
    {
     "data": {
      "text/plain": [
       "(124989, 6)"
      ]
     },
     "execution_count": 42,
     "metadata": {},
     "output_type": "execute_result"
    }
   ],
   "source": [
    "df.shape"
   ]
  },
  {
   "cell_type": "code",
   "execution_count": 47,
   "id": "f325e74e",
   "metadata": {},
   "outputs": [],
   "source": [
    "df.drop(columns =['date', 'link'],inplace = True)"
   ]
  },
  {
   "cell_type": "code",
   "execution_count": 48,
   "id": "d5635b68",
   "metadata": {},
   "outputs": [
    {
     "data": {
      "text/html": [
       "<div>\n",
       "<style scoped>\n",
       "    .dataframe tbody tr th:only-of-type {\n",
       "        vertical-align: middle;\n",
       "    }\n",
       "\n",
       "    .dataframe tbody tr th {\n",
       "        vertical-align: top;\n",
       "    }\n",
       "\n",
       "    .dataframe thead th {\n",
       "        text-align: right;\n",
       "    }\n",
       "</style>\n",
       "<table border=\"1\" class=\"dataframe\">\n",
       "  <thead>\n",
       "    <tr style=\"text-align: right;\">\n",
       "      <th></th>\n",
       "      <th>short_description</th>\n",
       "      <th>headline</th>\n",
       "      <th>authors</th>\n",
       "      <th>category</th>\n",
       "    </tr>\n",
       "  </thead>\n",
       "  <tbody>\n",
       "    <tr>\n",
       "      <th>0</th>\n",
       "      <td>She left her husband. He killed their children...</td>\n",
       "      <td>There Were 2 Mass Shootings In Texas Last Week...</td>\n",
       "      <td>Melissa Jeltsen</td>\n",
       "      <td>CRIME</td>\n",
       "    </tr>\n",
       "    <tr>\n",
       "      <th>1</th>\n",
       "      <td>Of course it has a song.</td>\n",
       "      <td>Will Smith Joins Diplo And Nicky Jam For The 2...</td>\n",
       "      <td>Andy McDonald</td>\n",
       "      <td>ENTERTAINMENT</td>\n",
       "    </tr>\n",
       "    <tr>\n",
       "      <th>2</th>\n",
       "      <td>The actor and his longtime girlfriend Anna Ebe...</td>\n",
       "      <td>Hugh Grant Marries For The First Time At Age 57</td>\n",
       "      <td>Ron Dicker</td>\n",
       "      <td>ENTERTAINMENT</td>\n",
       "    </tr>\n",
       "    <tr>\n",
       "      <th>3</th>\n",
       "      <td>The actor gives Dems an ass-kicking for not fi...</td>\n",
       "      <td>Jim Carrey Blasts 'Castrato' Adam Schiff And D...</td>\n",
       "      <td>Ron Dicker</td>\n",
       "      <td>ENTERTAINMENT</td>\n",
       "    </tr>\n",
       "    <tr>\n",
       "      <th>4</th>\n",
       "      <td>The \"Dietland\" actress said using the bags is ...</td>\n",
       "      <td>Julianna Margulies Uses Donald Trump Poop Bags...</td>\n",
       "      <td>Ron Dicker</td>\n",
       "      <td>ENTERTAINMENT</td>\n",
       "    </tr>\n",
       "    <tr>\n",
       "      <th>...</th>\n",
       "      <td>...</td>\n",
       "      <td>...</td>\n",
       "      <td>...</td>\n",
       "      <td>...</td>\n",
       "    </tr>\n",
       "    <tr>\n",
       "      <th>124984</th>\n",
       "      <td></td>\n",
       "      <td>Why I Thought I'd Never Live To See 33</td>\n",
       "      <td></td>\n",
       "      <td>WOMEN</td>\n",
       "    </tr>\n",
       "    <tr>\n",
       "      <th>124985</th>\n",
       "      <td>I often hear people describe cooking for one a...</td>\n",
       "      <td>Five Tips For Cooking For One</td>\n",
       "      <td>Food Riot, ContributorPlay with your food.</td>\n",
       "      <td>TASTE</td>\n",
       "    </tr>\n",
       "    <tr>\n",
       "      <th>124986</th>\n",
       "      <td></td>\n",
       "      <td>Police Want your Home Video Surveillance Footage</td>\n",
       "      <td>Robert Siciliano, ContributorPersonal Security...</td>\n",
       "      <td>CRIME</td>\n",
       "    </tr>\n",
       "    <tr>\n",
       "      <th>124987</th>\n",
       "      <td></td>\n",
       "      <td>Ouch, Natalie Morales</td>\n",
       "      <td>Katherine Fung</td>\n",
       "      <td>MEDIA</td>\n",
       "    </tr>\n",
       "    <tr>\n",
       "      <th>124988</th>\n",
       "      <td>Our thoughts and feelings are powerful, but ma...</td>\n",
       "      <td>Reasons Not to Be Happy</td>\n",
       "      <td>Mindy Utay, Contributor\"Calming Life's Conflicts\"</td>\n",
       "      <td>HEALTHY LIVING</td>\n",
       "    </tr>\n",
       "  </tbody>\n",
       "</table>\n",
       "<p>124989 rows × 4 columns</p>\n",
       "</div>"
      ],
      "text/plain": [
       "                                        short_description  \\\n",
       "0       She left her husband. He killed their children...   \n",
       "1                                Of course it has a song.   \n",
       "2       The actor and his longtime girlfriend Anna Ebe...   \n",
       "3       The actor gives Dems an ass-kicking for not fi...   \n",
       "4       The \"Dietland\" actress said using the bags is ...   \n",
       "...                                                   ...   \n",
       "124984                                                      \n",
       "124985  I often hear people describe cooking for one a...   \n",
       "124986                                                      \n",
       "124987                                                      \n",
       "124988  Our thoughts and feelings are powerful, but ma...   \n",
       "\n",
       "                                                 headline  \\\n",
       "0       There Were 2 Mass Shootings In Texas Last Week...   \n",
       "1       Will Smith Joins Diplo And Nicky Jam For The 2...   \n",
       "2         Hugh Grant Marries For The First Time At Age 57   \n",
       "3       Jim Carrey Blasts 'Castrato' Adam Schiff And D...   \n",
       "4       Julianna Margulies Uses Donald Trump Poop Bags...   \n",
       "...                                                   ...   \n",
       "124984             Why I Thought I'd Never Live To See 33   \n",
       "124985                      Five Tips For Cooking For One   \n",
       "124986   Police Want your Home Video Surveillance Footage   \n",
       "124987                              Ouch, Natalie Morales   \n",
       "124988                            Reasons Not to Be Happy   \n",
       "\n",
       "                                                  authors        category  \n",
       "0                                         Melissa Jeltsen           CRIME  \n",
       "1                                           Andy McDonald   ENTERTAINMENT  \n",
       "2                                              Ron Dicker   ENTERTAINMENT  \n",
       "3                                              Ron Dicker   ENTERTAINMENT  \n",
       "4                                              Ron Dicker   ENTERTAINMENT  \n",
       "...                                                   ...             ...  \n",
       "124984                                                              WOMEN  \n",
       "124985         Food Riot, ContributorPlay with your food.           TASTE  \n",
       "124986  Robert Siciliano, ContributorPersonal Security...           CRIME  \n",
       "124987                                     Katherine Fung           MEDIA  \n",
       "124988  Mindy Utay, Contributor\"Calming Life's Conflicts\"  HEALTHY LIVING  \n",
       "\n",
       "[124989 rows x 4 columns]"
      ]
     },
     "execution_count": 48,
     "metadata": {},
     "output_type": "execute_result"
    }
   ],
   "source": [
    "df"
   ]
  },
  {
   "cell_type": "code",
   "execution_count": 49,
   "id": "9f38e6fa",
   "metadata": {},
   "outputs": [],
   "source": [
    "df['text'] = df['short_description']+' '+df['headline'] + ' ' + df['authors']"
   ]
  },
  {
   "cell_type": "code",
   "execution_count": 50,
   "id": "922060fc",
   "metadata": {},
   "outputs": [
    {
     "data": {
      "text/html": [
       "<div>\n",
       "<style scoped>\n",
       "    .dataframe tbody tr th:only-of-type {\n",
       "        vertical-align: middle;\n",
       "    }\n",
       "\n",
       "    .dataframe tbody tr th {\n",
       "        vertical-align: top;\n",
       "    }\n",
       "\n",
       "    .dataframe thead th {\n",
       "        text-align: right;\n",
       "    }\n",
       "</style>\n",
       "<table border=\"1\" class=\"dataframe\">\n",
       "  <thead>\n",
       "    <tr style=\"text-align: right;\">\n",
       "      <th></th>\n",
       "      <th>short_description</th>\n",
       "      <th>headline</th>\n",
       "      <th>authors</th>\n",
       "      <th>category</th>\n",
       "      <th>text</th>\n",
       "    </tr>\n",
       "  </thead>\n",
       "  <tbody>\n",
       "    <tr>\n",
       "      <th>0</th>\n",
       "      <td>She left her husband. He killed their children...</td>\n",
       "      <td>There Were 2 Mass Shootings In Texas Last Week...</td>\n",
       "      <td>Melissa Jeltsen</td>\n",
       "      <td>CRIME</td>\n",
       "      <td>She left her husband. He killed their children...</td>\n",
       "    </tr>\n",
       "    <tr>\n",
       "      <th>1</th>\n",
       "      <td>Of course it has a song.</td>\n",
       "      <td>Will Smith Joins Diplo And Nicky Jam For The 2...</td>\n",
       "      <td>Andy McDonald</td>\n",
       "      <td>ENTERTAINMENT</td>\n",
       "      <td>Of course it has a song. Will Smith Joins Dipl...</td>\n",
       "    </tr>\n",
       "    <tr>\n",
       "      <th>2</th>\n",
       "      <td>The actor and his longtime girlfriend Anna Ebe...</td>\n",
       "      <td>Hugh Grant Marries For The First Time At Age 57</td>\n",
       "      <td>Ron Dicker</td>\n",
       "      <td>ENTERTAINMENT</td>\n",
       "      <td>The actor and his longtime girlfriend Anna Ebe...</td>\n",
       "    </tr>\n",
       "    <tr>\n",
       "      <th>3</th>\n",
       "      <td>The actor gives Dems an ass-kicking for not fi...</td>\n",
       "      <td>Jim Carrey Blasts 'Castrato' Adam Schiff And D...</td>\n",
       "      <td>Ron Dicker</td>\n",
       "      <td>ENTERTAINMENT</td>\n",
       "      <td>The actor gives Dems an ass-kicking for not fi...</td>\n",
       "    </tr>\n",
       "    <tr>\n",
       "      <th>4</th>\n",
       "      <td>The \"Dietland\" actress said using the bags is ...</td>\n",
       "      <td>Julianna Margulies Uses Donald Trump Poop Bags...</td>\n",
       "      <td>Ron Dicker</td>\n",
       "      <td>ENTERTAINMENT</td>\n",
       "      <td>The \"Dietland\" actress said using the bags is ...</td>\n",
       "    </tr>\n",
       "    <tr>\n",
       "      <th>...</th>\n",
       "      <td>...</td>\n",
       "      <td>...</td>\n",
       "      <td>...</td>\n",
       "      <td>...</td>\n",
       "      <td>...</td>\n",
       "    </tr>\n",
       "    <tr>\n",
       "      <th>124984</th>\n",
       "      <td></td>\n",
       "      <td>Why I Thought I'd Never Live To See 33</td>\n",
       "      <td></td>\n",
       "      <td>WOMEN</td>\n",
       "      <td>Why I Thought I'd Never Live To See 33</td>\n",
       "    </tr>\n",
       "    <tr>\n",
       "      <th>124985</th>\n",
       "      <td>I often hear people describe cooking for one a...</td>\n",
       "      <td>Five Tips For Cooking For One</td>\n",
       "      <td>Food Riot, ContributorPlay with your food.</td>\n",
       "      <td>TASTE</td>\n",
       "      <td>I often hear people describe cooking for one a...</td>\n",
       "    </tr>\n",
       "    <tr>\n",
       "      <th>124986</th>\n",
       "      <td></td>\n",
       "      <td>Police Want your Home Video Surveillance Footage</td>\n",
       "      <td>Robert Siciliano, ContributorPersonal Security...</td>\n",
       "      <td>CRIME</td>\n",
       "      <td>Police Want your Home Video Surveillance Foot...</td>\n",
       "    </tr>\n",
       "    <tr>\n",
       "      <th>124987</th>\n",
       "      <td></td>\n",
       "      <td>Ouch, Natalie Morales</td>\n",
       "      <td>Katherine Fung</td>\n",
       "      <td>MEDIA</td>\n",
       "      <td>Ouch, Natalie Morales Katherine Fung</td>\n",
       "    </tr>\n",
       "    <tr>\n",
       "      <th>124988</th>\n",
       "      <td>Our thoughts and feelings are powerful, but ma...</td>\n",
       "      <td>Reasons Not to Be Happy</td>\n",
       "      <td>Mindy Utay, Contributor\"Calming Life's Conflicts\"</td>\n",
       "      <td>HEALTHY LIVING</td>\n",
       "      <td>Our thoughts and feelings are powerful, but ma...</td>\n",
       "    </tr>\n",
       "  </tbody>\n",
       "</table>\n",
       "<p>124989 rows × 5 columns</p>\n",
       "</div>"
      ],
      "text/plain": [
       "                                        short_description  \\\n",
       "0       She left her husband. He killed their children...   \n",
       "1                                Of course it has a song.   \n",
       "2       The actor and his longtime girlfriend Anna Ebe...   \n",
       "3       The actor gives Dems an ass-kicking for not fi...   \n",
       "4       The \"Dietland\" actress said using the bags is ...   \n",
       "...                                                   ...   \n",
       "124984                                                      \n",
       "124985  I often hear people describe cooking for one a...   \n",
       "124986                                                      \n",
       "124987                                                      \n",
       "124988  Our thoughts and feelings are powerful, but ma...   \n",
       "\n",
       "                                                 headline  \\\n",
       "0       There Were 2 Mass Shootings In Texas Last Week...   \n",
       "1       Will Smith Joins Diplo And Nicky Jam For The 2...   \n",
       "2         Hugh Grant Marries For The First Time At Age 57   \n",
       "3       Jim Carrey Blasts 'Castrato' Adam Schiff And D...   \n",
       "4       Julianna Margulies Uses Donald Trump Poop Bags...   \n",
       "...                                                   ...   \n",
       "124984             Why I Thought I'd Never Live To See 33   \n",
       "124985                      Five Tips For Cooking For One   \n",
       "124986   Police Want your Home Video Surveillance Footage   \n",
       "124987                              Ouch, Natalie Morales   \n",
       "124988                            Reasons Not to Be Happy   \n",
       "\n",
       "                                                  authors        category  \\\n",
       "0                                         Melissa Jeltsen           CRIME   \n",
       "1                                           Andy McDonald   ENTERTAINMENT   \n",
       "2                                              Ron Dicker   ENTERTAINMENT   \n",
       "3                                              Ron Dicker   ENTERTAINMENT   \n",
       "4                                              Ron Dicker   ENTERTAINMENT   \n",
       "...                                                   ...             ...   \n",
       "124984                                                              WOMEN   \n",
       "124985         Food Riot, ContributorPlay with your food.           TASTE   \n",
       "124986  Robert Siciliano, ContributorPersonal Security...           CRIME   \n",
       "124987                                     Katherine Fung           MEDIA   \n",
       "124988  Mindy Utay, Contributor\"Calming Life's Conflicts\"  HEALTHY LIVING   \n",
       "\n",
       "                                                     text  \n",
       "0       She left her husband. He killed their children...  \n",
       "1       Of course it has a song. Will Smith Joins Dipl...  \n",
       "2       The actor and his longtime girlfriend Anna Ebe...  \n",
       "3       The actor gives Dems an ass-kicking for not fi...  \n",
       "4       The \"Dietland\" actress said using the bags is ...  \n",
       "...                                                   ...  \n",
       "124984            Why I Thought I'd Never Live To See 33   \n",
       "124985  I often hear people describe cooking for one a...  \n",
       "124986   Police Want your Home Video Surveillance Foot...  \n",
       "124987               Ouch, Natalie Morales Katherine Fung  \n",
       "124988  Our thoughts and feelings are powerful, but ma...  \n",
       "\n",
       "[124989 rows x 5 columns]"
      ]
     },
     "execution_count": 50,
     "metadata": {},
     "output_type": "execute_result"
    }
   ],
   "source": [
    "df"
   ]
  },
  {
   "cell_type": "code",
   "execution_count": 51,
   "id": "3c005dad",
   "metadata": {},
   "outputs": [
    {
     "data": {
      "text/html": [
       "<div>\n",
       "<style scoped>\n",
       "    .dataframe tbody tr th:only-of-type {\n",
       "        vertical-align: middle;\n",
       "    }\n",
       "\n",
       "    .dataframe tbody tr th {\n",
       "        vertical-align: top;\n",
       "    }\n",
       "\n",
       "    .dataframe thead th {\n",
       "        text-align: right;\n",
       "    }\n",
       "</style>\n",
       "<table border=\"1\" class=\"dataframe\">\n",
       "  <thead>\n",
       "    <tr style=\"text-align: right;\">\n",
       "      <th></th>\n",
       "      <th>category</th>\n",
       "      <th>text</th>\n",
       "    </tr>\n",
       "  </thead>\n",
       "  <tbody>\n",
       "    <tr>\n",
       "      <th>0</th>\n",
       "      <td>CRIME</td>\n",
       "      <td>She left her husband. He killed their children...</td>\n",
       "    </tr>\n",
       "    <tr>\n",
       "      <th>1</th>\n",
       "      <td>ENTERTAINMENT</td>\n",
       "      <td>Of course it has a song. Will Smith Joins Dipl...</td>\n",
       "    </tr>\n",
       "    <tr>\n",
       "      <th>2</th>\n",
       "      <td>ENTERTAINMENT</td>\n",
       "      <td>The actor and his longtime girlfriend Anna Ebe...</td>\n",
       "    </tr>\n",
       "    <tr>\n",
       "      <th>3</th>\n",
       "      <td>ENTERTAINMENT</td>\n",
       "      <td>The actor gives Dems an ass-kicking for not fi...</td>\n",
       "    </tr>\n",
       "    <tr>\n",
       "      <th>4</th>\n",
       "      <td>ENTERTAINMENT</td>\n",
       "      <td>The \"Dietland\" actress said using the bags is ...</td>\n",
       "    </tr>\n",
       "    <tr>\n",
       "      <th>...</th>\n",
       "      <td>...</td>\n",
       "      <td>...</td>\n",
       "    </tr>\n",
       "    <tr>\n",
       "      <th>124984</th>\n",
       "      <td>WOMEN</td>\n",
       "      <td>Why I Thought I'd Never Live To See 33</td>\n",
       "    </tr>\n",
       "    <tr>\n",
       "      <th>124985</th>\n",
       "      <td>TASTE</td>\n",
       "      <td>I often hear people describe cooking for one a...</td>\n",
       "    </tr>\n",
       "    <tr>\n",
       "      <th>124986</th>\n",
       "      <td>CRIME</td>\n",
       "      <td>Police Want your Home Video Surveillance Foot...</td>\n",
       "    </tr>\n",
       "    <tr>\n",
       "      <th>124987</th>\n",
       "      <td>MEDIA</td>\n",
       "      <td>Ouch, Natalie Morales Katherine Fung</td>\n",
       "    </tr>\n",
       "    <tr>\n",
       "      <th>124988</th>\n",
       "      <td>HEALTHY LIVING</td>\n",
       "      <td>Our thoughts and feelings are powerful, but ma...</td>\n",
       "    </tr>\n",
       "  </tbody>\n",
       "</table>\n",
       "<p>124989 rows × 2 columns</p>\n",
       "</div>"
      ],
      "text/plain": [
       "              category                                               text\n",
       "0                CRIME  She left her husband. He killed their children...\n",
       "1        ENTERTAINMENT  Of course it has a song. Will Smith Joins Dipl...\n",
       "2        ENTERTAINMENT  The actor and his longtime girlfriend Anna Ebe...\n",
       "3        ENTERTAINMENT  The actor gives Dems an ass-kicking for not fi...\n",
       "4        ENTERTAINMENT  The \"Dietland\" actress said using the bags is ...\n",
       "...                ...                                                ...\n",
       "124984           WOMEN            Why I Thought I'd Never Live To See 33 \n",
       "124985           TASTE  I often hear people describe cooking for one a...\n",
       "124986           CRIME   Police Want your Home Video Surveillance Foot...\n",
       "124987           MEDIA               Ouch, Natalie Morales Katherine Fung\n",
       "124988  HEALTHY LIVING  Our thoughts and feelings are powerful, but ma...\n",
       "\n",
       "[124989 rows x 2 columns]"
      ]
     },
     "execution_count": 51,
     "metadata": {},
     "output_type": "execute_result"
    }
   ],
   "source": [
    "df.drop(columns =['authors', 'short_description','headline'],inplace = True)\n",
    "df"
   ]
  },
  {
   "cell_type": "code",
   "execution_count": 52,
   "id": "07109090",
   "metadata": {},
   "outputs": [
    {
     "data": {
      "text/plain": [
       "POLITICS          32739\n",
       "ENTERTAINMENT     14257\n",
       "HEALTHY LIVING     6694\n",
       "QUEER VOICES       4995\n",
       "BUSINESS           4254\n",
       "SPORTS             4167\n",
       "COMEDY             3971\n",
       "PARENTS            3955\n",
       "BLACK VOICES       3858\n",
       "THE WORLDPOST      3664\n",
       "WOMEN              3490\n",
       "CRIME              2893\n",
       "MEDIA              2815\n",
       "WEIRD NEWS         2670\n",
       "GREEN              2622\n",
       "IMPACT             2602\n",
       "WORLDPOST          2579\n",
       "RELIGION           2556\n",
       "STYLE              2254\n",
       "WORLD NEWS         2177\n",
       "TRAVEL             2145\n",
       "TASTE              2096\n",
       "ARTS               1509\n",
       "FIFTY              1401\n",
       "GOOD NEWS          1398\n",
       "SCIENCE            1381\n",
       "ARTS & CULTURE     1339\n",
       "TECH               1231\n",
       "COLLEGE            1144\n",
       "LATINO VOICES      1129\n",
       "EDUCATION          1004\n",
       "Name: category, dtype: int64"
      ]
     },
     "execution_count": 52,
     "metadata": {},
     "output_type": "execute_result"
    }
   ],
   "source": [
    "df.category.value_counts()"
   ]
  },
  {
   "cell_type": "code",
   "execution_count": 54,
   "id": "960c945d",
   "metadata": {},
   "outputs": [
    {
     "data": {
      "text/plain": [
       "category    0\n",
       "text        0\n",
       "dtype: int64"
      ]
     },
     "execution_count": 54,
     "metadata": {},
     "output_type": "execute_result"
    }
   ],
   "source": [
    "df.isnull().sum()"
   ]
  },
  {
   "cell_type": "code",
   "execution_count": 64,
   "id": "5888e6bc",
   "metadata": {},
   "outputs": [],
   "source": [
    "df_filtered = df[(df['category'] == 'POLITICS') | (df['category'] == 'ENTERTAINMENT') | (df['category'] == 'SPORTS') | (df['category'] == 'CRIME') | (df['category'] == 'BUSINESS')]"
   ]
  },
  {
   "cell_type": "code",
   "execution_count": 65,
   "id": "c00d83bf",
   "metadata": {},
   "outputs": [
    {
     "data": {
      "text/html": [
       "<div>\n",
       "<style scoped>\n",
       "    .dataframe tbody tr th:only-of-type {\n",
       "        vertical-align: middle;\n",
       "    }\n",
       "\n",
       "    .dataframe tbody tr th {\n",
       "        vertical-align: top;\n",
       "    }\n",
       "\n",
       "    .dataframe thead th {\n",
       "        text-align: right;\n",
       "    }\n",
       "</style>\n",
       "<table border=\"1\" class=\"dataframe\">\n",
       "  <thead>\n",
       "    <tr style=\"text-align: right;\">\n",
       "      <th></th>\n",
       "      <th>category</th>\n",
       "      <th>text</th>\n",
       "    </tr>\n",
       "  </thead>\n",
       "  <tbody>\n",
       "    <tr>\n",
       "      <th>0</th>\n",
       "      <td>CRIME</td>\n",
       "      <td>She left her husband. He killed their children...</td>\n",
       "    </tr>\n",
       "    <tr>\n",
       "      <th>1</th>\n",
       "      <td>ENTERTAINMENT</td>\n",
       "      <td>Of course it has a song. Will Smith Joins Dipl...</td>\n",
       "    </tr>\n",
       "    <tr>\n",
       "      <th>2</th>\n",
       "      <td>ENTERTAINMENT</td>\n",
       "      <td>The actor and his longtime girlfriend Anna Ebe...</td>\n",
       "    </tr>\n",
       "    <tr>\n",
       "      <th>3</th>\n",
       "      <td>ENTERTAINMENT</td>\n",
       "      <td>The actor gives Dems an ass-kicking for not fi...</td>\n",
       "    </tr>\n",
       "    <tr>\n",
       "      <th>4</th>\n",
       "      <td>ENTERTAINMENT</td>\n",
       "      <td>The \"Dietland\" actress said using the bags is ...</td>\n",
       "    </tr>\n",
       "    <tr>\n",
       "      <th>...</th>\n",
       "      <td>...</td>\n",
       "      <td>...</td>\n",
       "    </tr>\n",
       "    <tr>\n",
       "      <th>124978</th>\n",
       "      <td>POLITICS</td>\n",
       "      <td>The baiting and the assault on Obama will get ...</td>\n",
       "    </tr>\n",
       "    <tr>\n",
       "      <th>124979</th>\n",
       "      <td>POLITICS</td>\n",
       "      <td>Lawmakers Introduce Bill To Tackle Misleading...</td>\n",
       "    </tr>\n",
       "    <tr>\n",
       "      <th>124980</th>\n",
       "      <td>POLITICS</td>\n",
       "      <td>I'm assuming you are aware of this issue, Pres...</td>\n",
       "    </tr>\n",
       "    <tr>\n",
       "      <th>124983</th>\n",
       "      <td>POLITICS</td>\n",
       "      <td>The Obama Effect</td>\n",
       "    </tr>\n",
       "    <tr>\n",
       "      <th>124986</th>\n",
       "      <td>CRIME</td>\n",
       "      <td>Police Want your Home Video Surveillance Foot...</td>\n",
       "    </tr>\n",
       "  </tbody>\n",
       "</table>\n",
       "<p>58310 rows × 2 columns</p>\n",
       "</div>"
      ],
      "text/plain": [
       "             category                                               text\n",
       "0               CRIME  She left her husband. He killed their children...\n",
       "1       ENTERTAINMENT  Of course it has a song. Will Smith Joins Dipl...\n",
       "2       ENTERTAINMENT  The actor and his longtime girlfriend Anna Ebe...\n",
       "3       ENTERTAINMENT  The actor gives Dems an ass-kicking for not fi...\n",
       "4       ENTERTAINMENT  The \"Dietland\" actress said using the bags is ...\n",
       "...               ...                                                ...\n",
       "124978       POLITICS  The baiting and the assault on Obama will get ...\n",
       "124979       POLITICS   Lawmakers Introduce Bill To Tackle Misleading...\n",
       "124980       POLITICS  I'm assuming you are aware of this issue, Pres...\n",
       "124983       POLITICS                                  The Obama Effect \n",
       "124986          CRIME   Police Want your Home Video Surveillance Foot...\n",
       "\n",
       "[58310 rows x 2 columns]"
      ]
     },
     "execution_count": 65,
     "metadata": {},
     "output_type": "execute_result"
    }
   ],
   "source": [
    "df_filtered"
   ]
  },
  {
   "cell_type": "code",
   "execution_count": 66,
   "id": "a523fc81",
   "metadata": {},
   "outputs": [
    {
     "data": {
      "text/plain": [
       "POLITICS         32739\n",
       "ENTERTAINMENT    14257\n",
       "BUSINESS          4254\n",
       "SPORTS            4167\n",
       "CRIME             2893\n",
       "Name: category, dtype: int64"
      ]
     },
     "execution_count": 66,
     "metadata": {},
     "output_type": "execute_result"
    }
   ],
   "source": [
    "df_filtered.category.value_counts()"
   ]
  },
  {
   "cell_type": "code",
   "execution_count": 69,
   "id": "a1cc3b22",
   "metadata": {},
   "outputs": [
    {
     "name": "stderr",
     "output_type": "stream",
     "text": [
      "C:\\Users\\amank\\AppData\\Local\\Temp/ipykernel_12732/3102350822.py:3: SettingWithCopyWarning: \n",
      "A value is trying to be set on a copy of a slice from a DataFrame.\n",
      "Try using .loc[row_indexer,col_indexer] = value instead\n",
      "\n",
      "See the caveats in the documentation: https://pandas.pydata.org/pandas-docs/stable/user_guide/indexing.html#returning-a-view-versus-a-copy\n",
      "  df_filtered['category_num'] = df_filtered['category'].map({\n"
     ]
    }
   ],
   "source": [
    "target = {'BUSINESS': 0, 'SPORTS': 1, 'CRIME': 2, 'ENTERTAINMENT': 3,'POLITICS':4}\n",
    "\n",
    "df_filtered['category_num'] = df_filtered['category'].map({\n",
    "    'BUSINESS': 0,\n",
    "    'SPORTS': 1, \n",
    "    'CRIME': 2, \n",
    "    'ENTERTAINMENT': 3,\n",
    "    'POLITICS':4\n",
    "})"
   ]
  },
  {
   "cell_type": "code",
   "execution_count": 70,
   "id": "ad2684d2",
   "metadata": {},
   "outputs": [
    {
     "data": {
      "text/html": [
       "<div>\n",
       "<style scoped>\n",
       "    .dataframe tbody tr th:only-of-type {\n",
       "        vertical-align: middle;\n",
       "    }\n",
       "\n",
       "    .dataframe tbody tr th {\n",
       "        vertical-align: top;\n",
       "    }\n",
       "\n",
       "    .dataframe thead th {\n",
       "        text-align: right;\n",
       "    }\n",
       "</style>\n",
       "<table border=\"1\" class=\"dataframe\">\n",
       "  <thead>\n",
       "    <tr style=\"text-align: right;\">\n",
       "      <th></th>\n",
       "      <th>category</th>\n",
       "      <th>text</th>\n",
       "      <th>category_num</th>\n",
       "    </tr>\n",
       "  </thead>\n",
       "  <tbody>\n",
       "    <tr>\n",
       "      <th>0</th>\n",
       "      <td>CRIME</td>\n",
       "      <td>She left her husband. He killed their children...</td>\n",
       "      <td>2</td>\n",
       "    </tr>\n",
       "    <tr>\n",
       "      <th>1</th>\n",
       "      <td>ENTERTAINMENT</td>\n",
       "      <td>Of course it has a song. Will Smith Joins Dipl...</td>\n",
       "      <td>3</td>\n",
       "    </tr>\n",
       "    <tr>\n",
       "      <th>2</th>\n",
       "      <td>ENTERTAINMENT</td>\n",
       "      <td>The actor and his longtime girlfriend Anna Ebe...</td>\n",
       "      <td>3</td>\n",
       "    </tr>\n",
       "    <tr>\n",
       "      <th>3</th>\n",
       "      <td>ENTERTAINMENT</td>\n",
       "      <td>The actor gives Dems an ass-kicking for not fi...</td>\n",
       "      <td>3</td>\n",
       "    </tr>\n",
       "    <tr>\n",
       "      <th>4</th>\n",
       "      <td>ENTERTAINMENT</td>\n",
       "      <td>The \"Dietland\" actress said using the bags is ...</td>\n",
       "      <td>3</td>\n",
       "    </tr>\n",
       "  </tbody>\n",
       "</table>\n",
       "</div>"
      ],
      "text/plain": [
       "        category                                               text  \\\n",
       "0          CRIME  She left her husband. He killed their children...   \n",
       "1  ENTERTAINMENT  Of course it has a song. Will Smith Joins Dipl...   \n",
       "2  ENTERTAINMENT  The actor and his longtime girlfriend Anna Ebe...   \n",
       "3  ENTERTAINMENT  The actor gives Dems an ass-kicking for not fi...   \n",
       "4  ENTERTAINMENT  The \"Dietland\" actress said using the bags is ...   \n",
       "\n",
       "   category_num  \n",
       "0             2  \n",
       "1             3  \n",
       "2             3  \n",
       "3             3  \n",
       "4             3  "
      ]
     },
     "execution_count": 70,
     "metadata": {},
     "output_type": "execute_result"
    }
   ],
   "source": [
    "df_filtered.head()"
   ]
  },
  {
   "cell_type": "code",
   "execution_count": 72,
   "id": "1e0b60a8",
   "metadata": {},
   "outputs": [],
   "source": [
    "# In undersampling, we take a minor class and sample those many samples from other classes, this means we are not utilizing all the data samples for training and in ML world - Not using all the data for training is considered a SIN! 😵 In real life, you are advised to use a technique such as SMOTE so that you can utilize all of your dataset for the training but since this tutorial is more about bag of n-grams then class imbalance itself, I'd go with a simple technique of undersampling."
   ]
  },
  {
   "cell_type": "code",
   "execution_count": 73,
   "id": "a4e29b16",
   "metadata": {},
   "outputs": [],
   "source": [
    "min_samples = 2893 # we have these many SCIENCE articles and SCIENCE is our minority class\n",
    "\n",
    "\n",
    "df_business = df[df.category==\"BUSINESS\"].sample(min_samples, random_state=2022)\n",
    "df_sports = df[df.category==\"SPORTS\"].sample(min_samples, random_state=2022)\n",
    "df_crime = df[df.category==\"CRIME\"].sample(min_samples, random_state=2022)\n",
    "df_politics = df[df.category==\"POLITICS\"].sample(min_samples, random_state=2022)\n",
    "df_ent = df[df.category==\"ENTERTAINMENT\"].sample(min_samples, random_state=2022)\n"
   ]
  },
  {
   "cell_type": "code",
   "execution_count": 76,
   "id": "7ff9573c",
   "metadata": {},
   "outputs": [
    {
     "data": {
      "text/plain": [
       "BUSINESS         2893\n",
       "SPORTS           2893\n",
       "CRIME            2893\n",
       "POLITICS         2893\n",
       "ENTERTAINMENT    2893\n",
       "Name: category, dtype: int64"
      ]
     },
     "execution_count": 76,
     "metadata": {},
     "output_type": "execute_result"
    }
   ],
   "source": [
    "df_filtered = pd.concat([df_business,df_sports,df_crime,df_politics,df_ent],axis=0)\n",
    "df_filtered.category.value_counts()"
   ]
  },
  {
   "cell_type": "code",
   "execution_count": 77,
   "id": "330de819",
   "metadata": {},
   "outputs": [
    {
     "data": {
      "text/html": [
       "<div>\n",
       "<style scoped>\n",
       "    .dataframe tbody tr th:only-of-type {\n",
       "        vertical-align: middle;\n",
       "    }\n",
       "\n",
       "    .dataframe tbody tr th {\n",
       "        vertical-align: top;\n",
       "    }\n",
       "\n",
       "    .dataframe thead th {\n",
       "        text-align: right;\n",
       "    }\n",
       "</style>\n",
       "<table border=\"1\" class=\"dataframe\">\n",
       "  <thead>\n",
       "    <tr style=\"text-align: right;\">\n",
       "      <th></th>\n",
       "      <th>category</th>\n",
       "      <th>text</th>\n",
       "    </tr>\n",
       "  </thead>\n",
       "  <tbody>\n",
       "    <tr>\n",
       "      <th>120663</th>\n",
       "      <td>BUSINESS</td>\n",
       "      <td>Conscious awareness of the comfort principle i...</td>\n",
       "    </tr>\n",
       "    <tr>\n",
       "      <th>57531</th>\n",
       "      <td>BUSINESS</td>\n",
       "      <td>5 Business Lessons You Can Learn from Fitness...</td>\n",
       "    </tr>\n",
       "    <tr>\n",
       "      <th>61632</th>\n",
       "      <td>BUSINESS</td>\n",
       "      <td>Other regulators are stepping up while the SEC...</td>\n",
       "    </tr>\n",
       "    <tr>\n",
       "      <th>13088</th>\n",
       "      <td>BUSINESS</td>\n",
       "      <td>Men run everything, and it's enough already. W...</td>\n",
       "    </tr>\n",
       "    <tr>\n",
       "      <th>80943</th>\n",
       "      <td>BUSINESS</td>\n",
       "      <td>The stand-out national problem we have today i...</td>\n",
       "    </tr>\n",
       "    <tr>\n",
       "      <th>...</th>\n",
       "      <td>...</td>\n",
       "      <td>...</td>\n",
       "    </tr>\n",
       "    <tr>\n",
       "      <th>90216</th>\n",
       "      <td>ENTERTAINMENT</td>\n",
       "      <td>Still a bit to go until the Palme d'Or and Un ...</td>\n",
       "    </tr>\n",
       "    <tr>\n",
       "      <th>972</th>\n",
       "      <td>ENTERTAINMENT</td>\n",
       "      <td>It's all in the details. Blake Lively Brought ...</td>\n",
       "    </tr>\n",
       "    <tr>\n",
       "      <th>29147</th>\n",
       "      <td>ENTERTAINMENT</td>\n",
       "      <td>Bruce Langhorne may have been the real-life Mr...</td>\n",
       "    </tr>\n",
       "    <tr>\n",
       "      <th>1523</th>\n",
       "      <td>ENTERTAINMENT</td>\n",
       "      <td>Cosby was found guilty on Thursday of three fe...</td>\n",
       "    </tr>\n",
       "    <tr>\n",
       "      <th>83681</th>\n",
       "      <td>ENTERTAINMENT</td>\n",
       "      <td>You tell 'em, Salma. Salma Hayek: Hollywood St...</td>\n",
       "    </tr>\n",
       "  </tbody>\n",
       "</table>\n",
       "<p>14465 rows × 2 columns</p>\n",
       "</div>"
      ],
      "text/plain": [
       "             category                                               text\n",
       "120663       BUSINESS  Conscious awareness of the comfort principle i...\n",
       "57531        BUSINESS   5 Business Lessons You Can Learn from Fitness...\n",
       "61632        BUSINESS  Other regulators are stepping up while the SEC...\n",
       "13088        BUSINESS  Men run everything, and it's enough already. W...\n",
       "80943        BUSINESS  The stand-out national problem we have today i...\n",
       "...               ...                                                ...\n",
       "90216   ENTERTAINMENT  Still a bit to go until the Palme d'Or and Un ...\n",
       "972     ENTERTAINMENT  It's all in the details. Blake Lively Brought ...\n",
       "29147   ENTERTAINMENT  Bruce Langhorne may have been the real-life Mr...\n",
       "1523    ENTERTAINMENT  Cosby was found guilty on Thursday of three fe...\n",
       "83681   ENTERTAINMENT  You tell 'em, Salma. Salma Hayek: Hollywood St...\n",
       "\n",
       "[14465 rows x 2 columns]"
      ]
     },
     "execution_count": 77,
     "metadata": {},
     "output_type": "execute_result"
    }
   ],
   "source": [
    "df_filtered"
   ]
  },
  {
   "cell_type": "code",
   "execution_count": 78,
   "id": "f2b6f884",
   "metadata": {},
   "outputs": [],
   "source": [
    "target = {'BUSINESS': 0, 'SPORTS': 1, 'CRIME': 2, 'ENTERTAINMENT': 3,'POLITICS':4}\n",
    "\n",
    "df_filtered['category_num'] = df_filtered['category'].map({\n",
    "    'BUSINESS': 0,\n",
    "    'SPORTS': 1, \n",
    "    'CRIME': 2, \n",
    "    'ENTERTAINMENT': 3,\n",
    "    'POLITICS':4\n",
    "})"
   ]
  },
  {
   "cell_type": "code",
   "execution_count": 80,
   "id": "a11081c9",
   "metadata": {},
   "outputs": [
    {
     "data": {
      "text/html": [
       "<div>\n",
       "<style scoped>\n",
       "    .dataframe tbody tr th:only-of-type {\n",
       "        vertical-align: middle;\n",
       "    }\n",
       "\n",
       "    .dataframe tbody tr th {\n",
       "        vertical-align: top;\n",
       "    }\n",
       "\n",
       "    .dataframe thead th {\n",
       "        text-align: right;\n",
       "    }\n",
       "</style>\n",
       "<table border=\"1\" class=\"dataframe\">\n",
       "  <thead>\n",
       "    <tr style=\"text-align: right;\">\n",
       "      <th></th>\n",
       "      <th>category</th>\n",
       "      <th>text</th>\n",
       "      <th>category_num</th>\n",
       "    </tr>\n",
       "  </thead>\n",
       "  <tbody>\n",
       "    <tr>\n",
       "      <th>120663</th>\n",
       "      <td>BUSINESS</td>\n",
       "      <td>Conscious awareness of the comfort principle i...</td>\n",
       "      <td>0</td>\n",
       "    </tr>\n",
       "    <tr>\n",
       "      <th>57531</th>\n",
       "      <td>BUSINESS</td>\n",
       "      <td>5 Business Lessons You Can Learn from Fitness...</td>\n",
       "      <td>0</td>\n",
       "    </tr>\n",
       "    <tr>\n",
       "      <th>61632</th>\n",
       "      <td>BUSINESS</td>\n",
       "      <td>Other regulators are stepping up while the SEC...</td>\n",
       "      <td>0</td>\n",
       "    </tr>\n",
       "    <tr>\n",
       "      <th>13088</th>\n",
       "      <td>BUSINESS</td>\n",
       "      <td>Men run everything, and it's enough already. W...</td>\n",
       "      <td>0</td>\n",
       "    </tr>\n",
       "    <tr>\n",
       "      <th>80943</th>\n",
       "      <td>BUSINESS</td>\n",
       "      <td>The stand-out national problem we have today i...</td>\n",
       "      <td>0</td>\n",
       "    </tr>\n",
       "    <tr>\n",
       "      <th>...</th>\n",
       "      <td>...</td>\n",
       "      <td>...</td>\n",
       "      <td>...</td>\n",
       "    </tr>\n",
       "    <tr>\n",
       "      <th>90216</th>\n",
       "      <td>ENTERTAINMENT</td>\n",
       "      <td>Still a bit to go until the Palme d'Or and Un ...</td>\n",
       "      <td>3</td>\n",
       "    </tr>\n",
       "    <tr>\n",
       "      <th>972</th>\n",
       "      <td>ENTERTAINMENT</td>\n",
       "      <td>It's all in the details. Blake Lively Brought ...</td>\n",
       "      <td>3</td>\n",
       "    </tr>\n",
       "    <tr>\n",
       "      <th>29147</th>\n",
       "      <td>ENTERTAINMENT</td>\n",
       "      <td>Bruce Langhorne may have been the real-life Mr...</td>\n",
       "      <td>3</td>\n",
       "    </tr>\n",
       "    <tr>\n",
       "      <th>1523</th>\n",
       "      <td>ENTERTAINMENT</td>\n",
       "      <td>Cosby was found guilty on Thursday of three fe...</td>\n",
       "      <td>3</td>\n",
       "    </tr>\n",
       "    <tr>\n",
       "      <th>83681</th>\n",
       "      <td>ENTERTAINMENT</td>\n",
       "      <td>You tell 'em, Salma. Salma Hayek: Hollywood St...</td>\n",
       "      <td>3</td>\n",
       "    </tr>\n",
       "  </tbody>\n",
       "</table>\n",
       "<p>14465 rows × 3 columns</p>\n",
       "</div>"
      ],
      "text/plain": [
       "             category                                               text  \\\n",
       "120663       BUSINESS  Conscious awareness of the comfort principle i...   \n",
       "57531        BUSINESS   5 Business Lessons You Can Learn from Fitness...   \n",
       "61632        BUSINESS  Other regulators are stepping up while the SEC...   \n",
       "13088        BUSINESS  Men run everything, and it's enough already. W...   \n",
       "80943        BUSINESS  The stand-out national problem we have today i...   \n",
       "...               ...                                                ...   \n",
       "90216   ENTERTAINMENT  Still a bit to go until the Palme d'Or and Un ...   \n",
       "972     ENTERTAINMENT  It's all in the details. Blake Lively Brought ...   \n",
       "29147   ENTERTAINMENT  Bruce Langhorne may have been the real-life Mr...   \n",
       "1523    ENTERTAINMENT  Cosby was found guilty on Thursday of three fe...   \n",
       "83681   ENTERTAINMENT  You tell 'em, Salma. Salma Hayek: Hollywood St...   \n",
       "\n",
       "        category_num  \n",
       "120663             0  \n",
       "57531              0  \n",
       "61632              0  \n",
       "13088              0  \n",
       "80943              0  \n",
       "...              ...  \n",
       "90216              3  \n",
       "972                3  \n",
       "29147              3  \n",
       "1523               3  \n",
       "83681              3  \n",
       "\n",
       "[14465 rows x 3 columns]"
      ]
     },
     "execution_count": 80,
     "metadata": {},
     "output_type": "execute_result"
    }
   ],
   "source": [
    "df_balanced  = df_filtered\n",
    "df_balanced"
   ]
  },
  {
   "cell_type": "code",
   "execution_count": 81,
   "id": "b6532d8a",
   "metadata": {},
   "outputs": [],
   "source": [
    "# Build a model with original text (no pre processing)\n",
    "from sklearn.model_selection import train_test_split\n",
    "\n",
    "X_train, X_test, y_train, y_test = train_test_split(\n",
    "    df_balanced.text, \n",
    "    df_balanced.category_num, \n",
    "    test_size=0.2, # 20% samples will go to test dataset\n",
    "    random_state=2022,\n",
    "    stratify=df_balanced.category_num\n",
    ")"
   ]
  },
  {
   "cell_type": "code",
   "execution_count": 82,
   "id": "8b6921eb",
   "metadata": {},
   "outputs": [
    {
     "name": "stdout",
     "output_type": "stream",
     "text": [
      "(11572,)\n"
     ]
    },
    {
     "data": {
      "text/plain": [
       "63105     Energy companies that issued new share offerin...\n",
       "3330      She'll also lend her voice to an animated seri...\n",
       "89838     While the extent of the criminal charges are e...\n",
       "124118    An economy with nobody working is boring. The ...\n",
       "5206      The team plans to wear the patch all year to c...\n",
       "Name: text, dtype: object"
      ]
     },
     "execution_count": 82,
     "metadata": {},
     "output_type": "execute_result"
    }
   ],
   "source": [
    "print(X_train.shape)\n",
    "X_train.head()"
   ]
  },
  {
   "cell_type": "code",
   "execution_count": 83,
   "id": "419c6d22",
   "metadata": {},
   "outputs": [
    {
     "data": {
      "text/plain": [
       "3    2315\n",
       "2    2315\n",
       "0    2314\n",
       "1    2314\n",
       "4    2314\n",
       "Name: category_num, dtype: int64"
      ]
     },
     "execution_count": 83,
     "metadata": {},
     "output_type": "execute_result"
    }
   ],
   "source": [
    "y_train.value_counts()"
   ]
  },
  {
   "cell_type": "code",
   "execution_count": 84,
   "id": "fc1f6e32",
   "metadata": {},
   "outputs": [
    {
     "data": {
      "text/plain": [
       "1    579\n",
       "4    579\n",
       "0    579\n",
       "2    578\n",
       "3    578\n",
       "Name: category_num, dtype: int64"
      ]
     },
     "execution_count": 84,
     "metadata": {},
     "output_type": "execute_result"
    }
   ],
   "source": [
    "y_test.value_counts()"
   ]
  },
  {
   "cell_type": "code",
   "execution_count": 85,
   "id": "c7ffe161",
   "metadata": {},
   "outputs": [],
   "source": [
    "# Use 1-gram  which is nothing but a Bag Of Words (BOW) model"
   ]
  },
  {
   "cell_type": "code",
   "execution_count": 86,
   "id": "ad3b6123",
   "metadata": {},
   "outputs": [
    {
     "name": "stdout",
     "output_type": "stream",
     "text": [
      "              precision    recall  f1-score   support\n",
      "\n",
      "           0       0.86      0.86      0.86       579\n",
      "           1       0.91      0.90      0.91       579\n",
      "           2       0.85      0.90      0.88       578\n",
      "           3       0.93      0.86      0.89       578\n",
      "           4       0.83      0.85      0.84       579\n",
      "\n",
      "    accuracy                           0.87      2893\n",
      "   macro avg       0.88      0.87      0.87      2893\n",
      "weighted avg       0.88      0.87      0.87      2893\n",
      "\n"
     ]
    }
   ],
   "source": [
    "from sklearn.naive_bayes import MultinomialNB\n",
    "from sklearn.pipeline import Pipeline\n",
    "from sklearn.metrics import classification_report\n",
    "\n",
    "#1. create a pipeline object\n",
    "clf = Pipeline([\n",
    "     ('vectorizer_bow', CountVectorizer(ngram_range = (1, 1))),        #using the ngram_range parameter \n",
    "     ('Multi NB', MultinomialNB())         \n",
    "])\n",
    "\n",
    "#2. fit with X_train and y_train\n",
    "clf.fit(X_train, y_train)\n",
    "\n",
    "\n",
    "#3. get the predictions for X_test and store it in y_pred\n",
    "y_pred = clf.predict(X_test)\n",
    "\n",
    "\n",
    "#4. print the classfication report\n",
    "print(classification_report(y_test, y_pred))"
   ]
  },
  {
   "cell_type": "code",
   "execution_count": 87,
   "id": "a790cc23",
   "metadata": {},
   "outputs": [
    {
     "data": {
      "text/plain": [
       "30159     Oops! Cops Foot $55,000 Bill For Cell Phone Th...\n",
       "93780      Cop In Walter Scott Shooting Reportedly Heard...\n",
       "120903     Suspected Seattle Gunman Suffers From Severe ...\n",
       "111238     Heroin Is Cheaper Than Beer And Easy To Get I...\n",
       "106059                Everyone's Going To See 'Mockingjay' \n",
       "Name: text, dtype: object"
      ]
     },
     "execution_count": 87,
     "metadata": {},
     "output_type": "execute_result"
    }
   ],
   "source": [
    "X_test[:5]"
   ]
  },
  {
   "cell_type": "code",
   "execution_count": 89,
   "id": "793381aa",
   "metadata": {},
   "outputs": [
    {
     "data": {
      "text/plain": [
       "array([2, 2, 2, 0, 3], dtype=int64)"
      ]
     },
     "execution_count": 89,
     "metadata": {},
     "output_type": "execute_result"
    }
   ],
   "source": [
    "y_pred[:5]"
   ]
  },
  {
   "cell_type": "code",
   "execution_count": 90,
   "id": "2226df14",
   "metadata": {},
   "outputs": [
    {
     "data": {
      "text/plain": [
       "30159     2\n",
       "93780     2\n",
       "120903    2\n",
       "111238    2\n",
       "106059    3\n",
       "Name: category_num, dtype: int64"
      ]
     },
     "execution_count": 90,
     "metadata": {},
     "output_type": "execute_result"
    }
   ],
   "source": [
    "y_test[:5]"
   ]
  },
  {
   "cell_type": "code",
   "execution_count": 91,
   "id": "3bcb4537",
   "metadata": {},
   "outputs": [],
   "source": [
    "#  Use 1-gram and bigrams"
   ]
  },
  {
   "cell_type": "code",
   "execution_count": 92,
   "id": "9f4f5c3e",
   "metadata": {},
   "outputs": [
    {
     "name": "stdout",
     "output_type": "stream",
     "text": [
      "              precision    recall  f1-score   support\n",
      "\n",
      "           0       0.81      0.88      0.85       579\n",
      "           1       0.92      0.89      0.90       579\n",
      "           2       0.87      0.90      0.88       578\n",
      "           3       0.95      0.82      0.88       578\n",
      "           4       0.82      0.85      0.83       579\n",
      "\n",
      "    accuracy                           0.87      2893\n",
      "   macro avg       0.87      0.87      0.87      2893\n",
      "weighted avg       0.87      0.87      0.87      2893\n",
      "\n"
     ]
    }
   ],
   "source": [
    "#1. create a pipeline object\n",
    "clf = Pipeline([\n",
    "    ('vectorizer_1_2_gram', CountVectorizer(ngram_range = (1, 2))),        #using the ngram_range parameter \n",
    "     ('Multi NB', MultinomialNB())         \n",
    "])\n",
    "\n",
    "#2. fit with X_train and y_train\n",
    "clf.fit(X_train, y_train)\n",
    "\n",
    "\n",
    "#3. get the predictions for X_test and store it in y_pred\n",
    "y_pred = clf.predict(X_test)\n",
    "\n",
    "\n",
    "#4. print the classfication report\n",
    "print(classification_report(y_test, y_pred))"
   ]
  },
  {
   "cell_type": "code",
   "execution_count": 97,
   "id": "4391f1f0",
   "metadata": {},
   "outputs": [
    {
     "name": "stdout",
     "output_type": "stream",
     "text": [
      "              precision    recall  f1-score   support\n",
      "\n",
      "           0       0.79      0.89      0.84       579\n",
      "           1       0.91      0.88      0.90       579\n",
      "           2       0.88      0.89      0.89       578\n",
      "           3       0.95      0.80      0.87       578\n",
      "           4       0.80      0.85      0.83       579\n",
      "\n",
      "    accuracy                           0.86      2893\n",
      "   macro avg       0.87      0.86      0.86      2893\n",
      "weighted avg       0.87      0.86      0.86      2893\n",
      "\n"
     ]
    }
   ],
   "source": [
    "# Use 1-gram to trigrams\n",
    "\n",
    "#1. create a pipeline object\n",
    "clf = Pipeline([\n",
    "    ('vectorizer_1_3_grams', CountVectorizer(ngram_range = (1, 3))),        #using the ngram_range parameter \n",
    "     ('Multi NB', MultinomialNB())         \n",
    "])\n",
    "\n",
    "#2. fit with X_train and y_train\n",
    "clf.fit(X_train, y_train)\n",
    "\n",
    "\n",
    "#3. get the predictions for X_test and store it in y_pred\n",
    "y_pred = clf.predict(X_test)\n",
    "\n",
    "\n",
    "#4. print the classfication report\n",
    "print(classification_report(y_test, y_pred))"
   ]
  },
  {
   "cell_type": "code",
   "execution_count": 98,
   "id": "8a328002",
   "metadata": {},
   "outputs": [
    {
     "data": {
      "text/plain": [
       "array([2, 2, 2, 0, 3], dtype=int64)"
      ]
     },
     "execution_count": 98,
     "metadata": {},
     "output_type": "execute_result"
    }
   ],
   "source": [
    "y_pred[:5]"
   ]
  },
  {
   "cell_type": "code",
   "execution_count": 99,
   "id": "19fd791d",
   "metadata": {},
   "outputs": [
    {
     "data": {
      "text/plain": [
       "30159     2\n",
       "93780     2\n",
       "120903    2\n",
       "111238    2\n",
       "106059    3\n",
       "Name: category_num, dtype: int64"
      ]
     },
     "execution_count": 99,
     "metadata": {},
     "output_type": "execute_result"
    }
   ],
   "source": [
    "y_test[:5]"
   ]
  },
  {
   "cell_type": "code",
   "execution_count": 100,
   "id": "979f014c",
   "metadata": {},
   "outputs": [
    {
     "data": {
      "text/plain": [
       "array([[514,  11,   7,   3,  44],\n",
       "       [ 27, 509,  14,  12,  17],\n",
       "       [ 21,  10, 517,   2,  28],\n",
       "       [ 42,  21,  21, 462,  32],\n",
       "       [ 43,   7,  28,   8, 493]], dtype=int64)"
      ]
     },
     "execution_count": 100,
     "metadata": {},
     "output_type": "execute_result"
    }
   ],
   "source": [
    "from sklearn.metrics import confusion_matrix\n",
    "cm = confusion_matrix(y_test, y_pred)\n",
    "cm"
   ]
  },
  {
   "cell_type": "code",
   "execution_count": 101,
   "id": "dc2fbe73",
   "metadata": {},
   "outputs": [
    {
     "data": {
      "text/plain": [
       "Text(69.0, 0.5, 'Truth')"
      ]
     },
     "execution_count": 101,
     "metadata": {},
     "output_type": "execute_result"
    },
    {
     "data": {
      "image/png": "[encoded data removed]",
      "text/plain": [
       "<Figure size 720x504 with 2 Axes>"
      ]
     },
     "metadata": {
      "needs_background": "light"
     },
     "output_type": "display_data"
    }
   ],
   "source": [
    "from matplotlib import pyplot as plt\n",
    "import seaborn as sn\n",
    "plt.figure(figsize = (10,7))\n",
    "sn.heatmap(cm, annot=True, fmt='d')\n",
    "plt.xlabel('Prediction')\n",
    "plt.ylabel('Truth')"
   ]
  },
  {
   "cell_type": "code",
   "execution_count": null,
   "id": "f2078f70",
   "metadata": {},
   "outputs": [],
   "source": []
  }
 ],
 "metadata": {
  "kernelspec": {
   "display_name": "Python 3 (ipykernel)",
   "language": "python",
   "name": "python3"
  },
  "language_info": {
   "codemirror_mode": {
    "name": "ipython",
    "version": 3
   },
   "file_extension": ".py",
   "mimetype": "text/x-python",
   "name": "python",
   "nbconvert_exporter": "python",
   "pygments_lexer": "ipython3",
   "version": "3.9.7"
  }
 },
 "nbformat": 4,
 "nbformat_minor": 5
}
