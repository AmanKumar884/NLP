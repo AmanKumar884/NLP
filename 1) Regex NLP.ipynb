{
 "cells": [
  {
   "cell_type": "code",
   "execution_count": 1,
   "id": "a1d59a12",
   "metadata": {},
   "outputs": [],
   "source": [
    "import re"
   ]
  },
  {
   "cell_type": "code",
   "execution_count": 11,
   "id": "839a20bf",
   "metadata": {},
   "outputs": [],
   "source": [
    "chat1 = 'codebasics: you ask lot of questions 😠  1235678912, abc@xyz.com'\n",
    "chat2 = 'codebasics: here it is: (123)-567-8912, abc_435a@xyz.com'\n",
    "chat3 = 'codebasics: yes, phone: 1235678912 email: abc@xyz.com'"
   ]
  },
  {
   "cell_type": "code",
   "execution_count": 12,
   "id": "146df246",
   "metadata": {},
   "outputs": [
    {
     "data": {
      "text/plain": [
       "['1235678912', '(123)-567-8912', '1235678912']"
      ]
     },
     "execution_count": 12,
     "metadata": {},
     "output_type": "execute_result"
    }
   ],
   "source": [
    "pattern = '\\d{10}|\\(\\d{3}\\)-\\d{3}-\\d{4}'\n",
    "matches = re.findall(pattern,chat1+chat2+chat3)\n",
    "matches"
   ]
  },
  {
   "cell_type": "code",
   "execution_count": 13,
   "id": "35ce7881",
   "metadata": {},
   "outputs": [
    {
     "data": {
      "text/plain": [
       "['abc@xyz.comcodebasics', 'abc_435a@xyz.comcodebasics', 'abc@xyz.com']"
      ]
     },
     "execution_count": 13,
     "metadata": {},
     "output_type": "execute_result"
    }
   ],
   "source": [
    "pattern1 = '[a-zA-Z0-9._-]+@[a-zA-Z0-9._-]+\\.[a-zA-Z]+'\n",
    "matches = re.findall(pattern1,chat1+chat2+chat3)\n",
    "matches"
   ]
  },
  {
   "cell_type": "code",
   "execution_count": 14,
   "id": "66779b15",
   "metadata": {},
   "outputs": [
    {
     "data": {
      "text/plain": [
       "['412889912', '412889422', '4128812412']"
      ]
     },
     "execution_count": 14,
     "metadata": {},
     "output_type": "execute_result"
    }
   ],
   "source": [
    "chat1='codebasics: Hello, I am having an issue with my order # 412889912'\n",
    "chat2='codebasics: I have a problem with my order number 412889422'\n",
    "chat3='codebasics: My order 4128812412 is having an issue, I was charged 300$ when online it says 280$'\n",
    "\n",
    "pattern = 'order[^\\d]+(\\d+)'\n",
    "matcher = re.findall(pattern,chat1+chat2+chat3)\n",
    "matcher"
   ]
  },
  {
   "cell_type": "code",
   "execution_count": 15,
   "id": "8437121b",
   "metadata": {},
   "outputs": [],
   "source": [
    "# INformation scraping\n",
    "text='''\n",
    "Born\tElon Reeve Musk\n",
    "June 28, 1971 (age 50)\n",
    "Pretoria, Transvaal, South Africa\n",
    "Citizenship\t\n",
    "South Africa (1971–present)\n",
    "Canada (1971–present)\n",
    "United States (2002–present)\n",
    "Education\tUniversity of Pennsylvania (BS, BA)\n",
    "Title\t\n",
    "Founder, CEO and Chief Engineer of SpaceX\n",
    "CEO and product architect of Tesla, Inc.\n",
    "Founder of The Boring Company and X.com (now part of PayPal)\n",
    "Co-founder of Neuralink, OpenAI, and Zip2\n",
    "Spouse(s)\t\n",
    "Justine Wilson\n",
    "​\n",
    "​(m. 2000; div. 2008)​\n",
    "Talulah Riley\n",
    "​\n",
    "​(m. 2010; div. 2012)​\n",
    "​\n",
    "​(m. 2013; div. 2016)\n",
    "'''"
   ]
  },
  {
   "cell_type": "code",
   "execution_count": 25,
   "id": "9c9f14a4",
   "metadata": {},
   "outputs": [
    {
     "data": {
      "text/plain": [
       "'50'"
      ]
     },
     "execution_count": 25,
     "metadata": {},
     "output_type": "execute_result"
    }
   ],
   "source": [
    "pattern = 'age\\s+(\\d+)'\n",
    "matcher = re.findall(pattern,text)\n",
    "matcher[0]"
   ]
  },
  {
   "cell_type": "code",
   "execution_count": 26,
   "id": "246748b4",
   "metadata": {},
   "outputs": [
    {
     "data": {
      "text/plain": [
       "'Elon Reeve Musk'"
      ]
     },
     "execution_count": 26,
     "metadata": {},
     "output_type": "execute_result"
    }
   ],
   "source": [
    "pattern = 'Born\\s+([^\\n]+)'\n",
    "matcher = re.findall(pattern,text)\n",
    "matcher[0]"
   ]
  },
  {
   "cell_type": "code",
   "execution_count": 27,
   "id": "2445ae19",
   "metadata": {},
   "outputs": [
    {
     "data": {
      "text/plain": [
       "'June 28, 1971'"
      ]
     },
     "execution_count": 27,
     "metadata": {},
     "output_type": "execute_result"
    }
   ],
   "source": [
    "pattern = 'Born.*\\n(.*)\\('\n",
    "matcher = re.findall(pattern,text)\n",
    "matcher[0].strip()"
   ]
  },
  {
   "cell_type": "code",
   "execution_count": 28,
   "id": "3620e78c",
   "metadata": {},
   "outputs": [
    {
     "data": {
      "text/plain": [
       "'Pretoria, Transvaal, South Africa'"
      ]
     },
     "execution_count": 28,
     "metadata": {},
     "output_type": "execute_result"
    }
   ],
   "source": [
    "pattern = 'Born.*\\n.*\\s+([^\\n]+)'\n",
    "matcher = re.findall(pattern,text)\n",
    "matcher[0].strip()"
   ]
  },
  {
   "cell_type": "code",
   "execution_count": 31,
   "id": "a9765976",
   "metadata": {},
   "outputs": [],
   "source": [
    "def get_pattern_match(pattern, text):\n",
    "    matches = re.findall(pattern, text)\n",
    "    if matches:\n",
    "        return matches[0]"
   ]
  },
  {
   "cell_type": "code",
   "execution_count": 32,
   "id": "e1bcdccc",
   "metadata": {},
   "outputs": [],
   "source": [
    "def extract_personal_information(text):\n",
    "    age = get_pattern_match('age (\\d+)', text)\n",
    "    full_name = get_pattern_match('Born(.*)\\n', text)\n",
    "    birth_date = get_pattern_match('Born.*\\n(.*)\\(age', text)\n",
    "    birth_place = get_pattern_match('\\(age.*\\n(.*)', text)\n",
    "    return {\n",
    "        'age': int(age),\n",
    "        'name': full_name.strip(),\n",
    "        'birth_date': birth_date.strip(),\n",
    "        'birth_place': birth_place.strip()\n",
    "    }"
   ]
  },
  {
   "cell_type": "code",
   "execution_count": 33,
   "id": "32794e0b",
   "metadata": {},
   "outputs": [
    {
     "data": {
      "text/plain": [
       "{'age': 50,\n",
       " 'name': 'Elon Reeve Musk',\n",
       " 'birth_date': 'June 28, 1971',\n",
       " 'birth_place': 'Pretoria, Transvaal, South Africa'}"
      ]
     },
     "execution_count": 33,
     "metadata": {},
     "output_type": "execute_result"
    }
   ],
   "source": [
    "extract_personal_information(text)"
   ]
  },
  {
   "cell_type": "code",
   "execution_count": 34,
   "id": "b7846eca",
   "metadata": {},
   "outputs": [],
   "source": [
    "text = '''\n",
    "Born\tMukesh Dhirubhai Ambani\n",
    "19 April 1957 (age 64)\n",
    "Aden, Colony of Aden\n",
    "(present-day Yemen)[1][2]\n",
    "Nationality\tIndian\n",
    "Alma mater\t\n",
    "St. Xavier's College, Mumbai\n",
    "Institute of Chemical Technology (B.E.)\n",
    "Stanford University (drop-out)\n",
    "Occupation\tChairman and MD, Reliance Industries\n",
    "Spouse(s)\tNita Ambani ​(m. 1985)​[3]\n",
    "Children\t3\n",
    "Parent(s)\t\n",
    "Dhirubhai Ambani (father)\n",
    "Kokilaben Ambani (mother)\n",
    "Relatives\tAnil Ambani (brother)\n",
    "Tina Ambani (sister-in-law)\n",
    "'''"
   ]
  },
  {
   "cell_type": "code",
   "execution_count": 35,
   "id": "af945904",
   "metadata": {},
   "outputs": [
    {
     "data": {
      "text/plain": [
       "{'age': 64,\n",
       " 'name': 'Mukesh Dhirubhai Ambani',\n",
       " 'birth_date': '19 April 1957',\n",
       " 'birth_place': 'Aden, Colony of Aden'}"
      ]
     },
     "execution_count": 35,
     "metadata": {},
     "output_type": "execute_result"
    }
   ],
   "source": [
    "extract_personal_information(text)"
   ]
  },
  {
   "cell_type": "code",
   "execution_count": null,
   "id": "be55a26c",
   "metadata": {},
   "outputs": [],
   "source": []
  }
 ],
 "metadata": {
  "kernelspec": {
   "display_name": "Python 3 (ipykernel)",
   "language": "python",
   "name": "python3"
  },
  "language_info": {
   "codemirror_mode": {
    "name": "ipython",
    "version": 3
   },
   "file_extension": ".py",
   "mimetype": "text/x-python",
   "name": "python",
   "nbconvert_exporter": "python",
   "pygments_lexer": "ipython3",
   "version": "3.9.7"
  }
 },
 "nbformat": 4,
 "nbformat_minor": 5
}
